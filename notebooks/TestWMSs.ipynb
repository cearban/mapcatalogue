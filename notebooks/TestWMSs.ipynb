{
 "cells": [
  {
   "cell_type": "code",
   "execution_count": 2,
   "metadata": {},
   "outputs": [],
   "source": [
    "import csv\n",
    "import os"
   ]
  },
  {
   "cell_type": "code",
   "execution_count": 3,
   "metadata": {},
   "outputs": [],
   "source": [
    "from pyproj import Transformer"
   ]
  },
  {
   "cell_type": "code",
   "execution_count": 4,
   "metadata": {},
   "outputs": [
    {
     "name": "stdout",
     "output_type": "stream",
     "text": [
      "St Albans City and District Council Amenity Green Space\n",
      "http://inspirewms.stalbans.gov.uk/INSPIRE/WEBSERVICE/wms.exe?service=wms&request=GetCapabilities\n",
      "Worcester City Council WMS Service\n",
      "http://inspire.worcester.gov.uk/geoserver/worcester/ows?SERVICE=WMS&request=GetCapabilities\n",
      "Wycombe Inspire Data\n",
      "http://inspire.wycombe.gov.uk/getows.ashx?Mapsource=Wycombe/Inspire&service=WMS&version=1.1.1&Request=GetCapabilities\n",
      "Fife Cycle Network\n",
      "http://arcgisweb.fife.gov.uk/geoserver/fife/ows?request=getCapabilities&version=1.3.0&service=WMS\n",
      "Suitable Alternative Natural Green Spaces\n",
      "https://maps.runnymede.gov.uk/geoserver/environment/suitable_alternative_natural_green_spaces/wms?service=WMS&request=GetCapabilities\n",
      "Amenity Greenspace\n",
      "http://maps.cheshire.gov.uk/ArcGIS/services/CE/public_wms/MapServer/WmSServer?request=GetCapabilities&service=WMS\n",
      "Amenity Greenspace Buffer\n",
      "http://maps.cheshire.gov.uk/ArcGIS/services/CE/public_wms/MapServer/WmSServer?request=GetCapabilities&service=WMS\n",
      "Amenity Greenspace Buffer\n",
      "http://maps.cheshire.gov.uk/ArcGIS/services/CE/public_wms/MapServer/WmSServer?request=GetCapabilities&service=WMS\n",
      "Thurrock Natural & Semi-natural Greenspace\n",
      "http://essex.astuntechnology.com/getows.ashx?mapsource=Essex/Inspire_Thurrock&service=WMS&request=GetCapabilities&version=1.1.1\n",
      "Greenspaces (UDP June 2006)  - Rochdale Borough Council\n",
      "http://inspire.misoportal.com/geoserver/rochdale_metropolitan_borough_council_stanneybrook_corridor/wms?request=getCapabilities\n",
      "Harrogate District Amenity Greenspace\n",
      "https://hbcmaps.harrogate.gov.uk/geoserver/inspire/wms?&request=GetCapabilities\n",
      "Greenspace Sites\n",
      "http://arcgisweb.fife.gov.uk/geoserver/fife/ows?request=getCapabilities&version=1.3.0&service=WMS\n",
      "Greenspace Access Points\n",
      "http://arcgisweb.fife.gov.uk/geoserver/fife/ows?request=getCapabilities&version=1.3.0&service=WMS\n",
      "Woodlands In & Around Towns (WIAT)\n",
      "https://cagmap.snh.gov.uk/arcgis/services/fcs_admin_boundaries/MapServer/WMSServer?request=GetCapabilities&service=WMS\n",
      "Semi Natural Greenspaces\n",
      "http://inspire.misoportal.com/geoserver/east_staffordshire_borough_counci_semi_natural_greenspaces/wms?request=getCapabilities\n",
      "DSA 2013 Green Space\n",
      "http://inspire.wycombe.gov.uk/getows.ashx?Mapsource=Wycombe/Inspire&service=WMS&version=1.1.0&Request=GetCapabilities\n",
      "Suitable Alternative Natural Green Spaces\n",
      "http://www2.guildford.gov.uk/ishare5.2.web/getows.ashx?mapsource=GBC/Inspire&version=1.1.1&request=GetCapabilities&service=WMS\n",
      "Urban Green Space\n",
      "http://inspire.misoportal.com/geoserver/norwich_city_council_rpa_sr_ug_urbangreenspace/wms?request=getCapabilities\n",
      "Amenity Greenspace\n",
      "http://inspire.misoportal.com/geoserver/east_staffordshire_borough_counci_amenity_greenspace/wms?request=getCapabilities\n",
      "Amenity Greenspace\n",
      "http://inspire.oldham.gov.uk:8080/geoserver/wms?service=WMS&request=GetCapabilities\n"
     ]
    }
   ],
   "source": [
    "fn = \"/home/james/PycharmProjects/edinaseer/data/some_urls.csv\"\n",
    "\n",
    "if os.path.exists(fn):\n",
    "    with open(fn, 'r') as inpf:\n",
    "        my_reader = csv.DictReader(inpf)\n",
    "        for r in my_reader:\n",
    "            print(r[\"title\"])\n",
    "            print(r[\"url\"])"
   ]
  },
  {
   "cell_type": "code",
   "execution_count": 24,
   "metadata": {},
   "outputs": [],
   "source": [
    "my_url = 'http://inspirewms.stalbans.gov.uk/INSPIRE/WEBSERVICE/wms.exe?service=wms&request=GetCapabilities'\n"
   ]
  },
  {
   "cell_type": "code",
   "execution_count": 25,
   "metadata": {},
   "outputs": [],
   "source": [
    "from owslib.wms import WebMapService"
   ]
  },
  {
   "cell_type": "code",
   "execution_count": 26,
   "metadata": {},
   "outputs": [],
   "source": [
    "wms = WebMapService(my_url)"
   ]
  },
  {
   "cell_type": "code",
   "execution_count": 27,
   "metadata": {},
   "outputs": [
    {
     "data": {
      "text/plain": [
       "'1.1.1'"
      ]
     },
     "execution_count": 27,
     "metadata": {},
     "output_type": "execute_result"
    }
   ],
   "source": [
    "wms.version"
   ]
  },
  {
   "cell_type": "code",
   "execution_count": 28,
   "metadata": {},
   "outputs": [
    {
     "data": {
      "text/plain": [
       "'Cadcorp GeognoSIS OGC Web Map Service'"
      ]
     },
     "execution_count": 28,
     "metadata": {},
     "output_type": "execute_result"
    }
   ],
   "source": [
    "wms.identification.title"
   ]
  },
  {
   "cell_type": "code",
   "execution_count": 29,
   "metadata": {},
   "outputs": [
    {
     "data": {
      "text/plain": [
       "'OGC Web Map Service developed by Cadcorp'"
      ]
     },
     "execution_count": 29,
     "metadata": {},
     "output_type": "execute_result"
    }
   ],
   "source": [
    "wms.identification.abstract"
   ]
  },
  {
   "cell_type": "code",
   "execution_count": 30,
   "metadata": {},
   "outputs": [
    {
     "data": {
      "text/plain": [
       "['Allotments',\n",
       " 'Allotments_and_Community_Gardens',\n",
       " 'Amenity_Green_Space',\n",
       " 'Amenity_Green_Space.1',\n",
       " 'Article_4_Areas',\n",
       " 'Article_4_Areas.1',\n",
       " 'Hedgerow_Retention_Notices',\n",
       " 'Hedgerow_Retention_Notices.1',\n",
       " 'Natural_Green_Space',\n",
       " 'Natural_and_Semi-Natural_Green_Space',\n",
       " 'Parks_and_Gardens',\n",
       " 'Parks_and_Gardens.1',\n",
       " 'Play_Areas',\n",
       " 'Play_Areas.1',\n",
       " 'Polling_Districts',\n",
       " 'Polling_Districts.1',\n",
       " 'Polling_Stations',\n",
       " 'Polling_Stations.1',\n",
       " 'S106',\n",
       " 'Section_106_Agreements',\n",
       " 'TPO',\n",
       " 'Tree_Preservation_Orders']"
      ]
     },
     "execution_count": 30,
     "metadata": {},
     "output_type": "execute_result"
    }
   ],
   "source": [
    "list(wms.contents)"
   ]
  },
  {
   "cell_type": "code",
   "execution_count": 31,
   "metadata": {},
   "outputs": [
    {
     "data": {
      "text/plain": [
       "'Polling_Districts'"
      ]
     },
     "execution_count": 31,
     "metadata": {},
     "output_type": "execute_result"
    }
   ],
   "source": [
    "wms['Polling_Districts'].title"
   ]
  },
  {
   "cell_type": "code",
   "execution_count": 32,
   "metadata": {},
   "outputs": [
    {
     "data": {
      "text/plain": [
       "['GetCapabilities', 'GetMap', 'GetFeatureInfo', 'DescribeLayer']"
      ]
     },
     "execution_count": 32,
     "metadata": {},
     "output_type": "execute_result"
    }
   ],
   "source": [
    "[op.name for op in wms.operations]"
   ]
  },
  {
   "cell_type": "code",
   "execution_count": 33,
   "metadata": {},
   "outputs": [
    {
     "data": {
      "text/plain": [
       "{}"
      ]
     },
     "execution_count": 33,
     "metadata": {},
     "output_type": "execute_result"
    }
   ],
   "source": [
    "wms['Polling_Districts'].styles"
   ]
  },
  {
   "cell_type": "code",
   "execution_count": 34,
   "metadata": {},
   "outputs": [
    {
     "data": {
      "text/plain": [
       "['EPSG:4277',\n",
       " 'AUTO:42002',\n",
       " 'EPSG:3857',\n",
       " 'AUTO:42005',\n",
       " 'EPSG:4326',\n",
       " 'AUTO:42003',\n",
       " 'AUTO:42001',\n",
       " 'AUTO:42004',\n",
       " 'EPSG:27700']"
      ]
     },
     "execution_count": 34,
     "metadata": {},
     "output_type": "execute_result"
    }
   ],
   "source": [
    "wms['Polling_Districts'].crsOptions"
   ]
  },
  {
   "cell_type": "code",
   "execution_count": 35,
   "metadata": {},
   "outputs": [
    {
     "data": {
      "text/plain": [
       "(-49416.8408732319,\n",
       " 6743500.604849,\n",
       " -26438.5631655145,\n",
       " 6773230.18568662,\n",
       " 'EPSG:3857')"
      ]
     },
     "execution_count": 35,
     "metadata": {},
     "output_type": "execute_result"
    }
   ],
   "source": [
    "wms['Polling_Districts'].boundingBox"
   ]
  },
  {
   "cell_type": "code",
   "execution_count": 36,
   "metadata": {},
   "outputs": [
    {
     "data": {
      "text/plain": [
       "1"
      ]
     },
     "execution_count": 36,
     "metadata": {},
     "output_type": "execute_result"
    }
   ],
   "source": [
    "wms['Polling_Districts'].queryable"
   ]
  },
  {
   "cell_type": "code",
   "execution_count": 37,
   "metadata": {},
   "outputs": [
    {
     "data": {
      "text/plain": [
       "['application/pdf',\n",
       " 'application/vnd.ms-xpsdocument',\n",
       " 'application/x-msmetafile',\n",
       " 'application/x-postscript',\n",
       " 'image/bmp',\n",
       " 'image/gif',\n",
       " 'image/jpeg',\n",
       " 'image/jpeg; Quality=50',\n",
       " 'image/jpeg; Quality=75',\n",
       " 'image/jpeg; Quality=90',\n",
       " 'image/jpeg; Quality=95',\n",
       " 'image/png',\n",
       " 'image/png; PhotometricInterpretation=PaletteColor',\n",
       " 'image/png; PhotometricInterpretation=RGB',\n",
       " 'image/png; PhotometricInterpretation=RGBA',\n",
       " 'image/svg+xml',\n",
       " 'image/x-webp',\n",
       " 'image/x-webp; Quality=50',\n",
       " 'image/x-webp; Quality=75',\n",
       " 'image/x-webp; Quality=90',\n",
       " 'image/x-webp; Quality=95']"
      ]
     },
     "execution_count": 37,
     "metadata": {},
     "output_type": "execute_result"
    }
   ],
   "source": [
    "wms.getOperationByName('GetMap').formatOptions"
   ]
  },
  {
   "cell_type": "code",
   "execution_count": 88,
   "metadata": {},
   "outputs": [],
   "source": [
    "def bbox_to_bng(src_crs, bbox, sub_bbox=False, buffer=100):\n",
    "    bbox_bng = None\n",
    "    if src_crs in (3857, 4326):\n",
    "        src_x_min, src_y_min, src_x_max, src_y_max = bbox[0], bbox[1], bbox[2], bbox[3]\n",
    "        transformer = Transformer.from_crs(src_crs, 27700)\n",
    "        bng_xy_min = transformer.transform(src_x_min, src_y_min)\n",
    "        bng_xy_max = transformer.transform(src_x_max, src_y_max)\n",
    "        bbox_bng = (int(bng_xy_min[0]), int(bng_xy_min[1]), int(bng_xy_max[0]), int(bng_xy_max[1]))\n",
    "        if sub_bbox:\n",
    "            centroid_x = (bng_xy_max[0] + bng_xy_min[0]) / 2.0\n",
    "            centroid_y = (bng_xy_max[1] + bng_xy_min[1]) / 2.0\n",
    "            bbox_bng = (int(centroid_x), int(centroid_y), int(centroid_x+buffer), int(centroid_y+buffer))\n",
    "            \n",
    "    return bbox_bng        "
   ]
  },
  {
   "cell_type": "code",
   "execution_count": 89,
   "metadata": {},
   "outputs": [
    {
     "name": "stdout",
     "output_type": "stream",
     "text": [
      "(507669, 199698, 521493, 218402)\n"
     ]
    }
   ],
   "source": [
    "bb = bbox = wms['Polling_Districts'].boundingBox\n",
    "bb_bng = bbox_to_bng(3857, bb)\n",
    "print(bb_bng)"
   ]
  },
  {
   "cell_type": "code",
   "execution_count": 98,
   "metadata": {},
   "outputs": [],
   "source": [
    "bb_bng = bbox_to_bng(3857, bb, sub_bbox=True, buffer=5000)"
   ]
  },
  {
   "cell_type": "code",
   "execution_count": 100,
   "metadata": {},
   "outputs": [],
   "source": [
    "out_fn = '/home/james/Desktop/wms_map.png'\n",
    "\n",
    "with open(out_fn, 'wb') as outpf:\n",
    "    img = wms.getmap(\n",
    "        layers=['Polling_Districts'],\n",
    "        srs='EPSG:27700',\n",
    "        bbox=bb_bng,\n",
    "        size=(400,400),\n",
    "        format='image/png'\n",
    "        )\n",
    "    outpf.write(img.read())\n"
   ]
  },
  {
   "cell_type": "code",
   "execution_count": null,
   "metadata": {},
   "outputs": [],
   "source": []
  }
 ],
 "metadata": {
  "kernelspec": {
   "display_name": "Python 3",
   "language": "python",
   "name": "python3"
  },
  "language_info": {
   "codemirror_mode": {
    "name": "ipython",
    "version": 3
   },
   "file_extension": ".py",
   "mimetype": "text/x-python",
   "name": "python",
   "nbconvert_exporter": "python",
   "pygments_lexer": "ipython3",
   "version": "3.6.7"
  }
 },
 "nbformat": 4,
 "nbformat_minor": 4
}
