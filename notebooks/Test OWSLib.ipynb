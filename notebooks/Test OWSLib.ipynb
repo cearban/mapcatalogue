{
 "cells": [
  {
   "cell_type": "code",
   "execution_count": 78,
   "metadata": {},
   "outputs": [],
   "source": [
    "from owslib.csw import CatalogueServiceWeb"
   ]
  },
  {
   "cell_type": "code",
   "execution_count": 79,
   "metadata": {},
   "outputs": [],
   "source": [
    "csw = CatalogueServiceWeb('https://ckan.publishing.service.gov.uk/csw?request=GetCapabilities&service=CSW&version=2.0.2')"
   ]
  },
  {
   "cell_type": "code",
   "execution_count": 80,
   "metadata": {},
   "outputs": [
    {
     "data": {
      "text/plain": [
       "<owslib.ows.ServiceIdentification CSW at 0x7f3186a9f630>"
      ]
     },
     "execution_count": 80,
     "metadata": {},
     "output_type": "execute_result"
    }
   ],
   "source": [
    "csw.identification"
   ]
  },
  {
   "cell_type": "code",
   "execution_count": 81,
   "metadata": {},
   "outputs": [
    {
     "data": {
      "text/plain": [
       "'pycsw is an OGC CSW server implementation written in Python'"
      ]
     },
     "execution_count": 81,
     "metadata": {},
     "output_type": "execute_result"
    }
   ],
   "source": [
    "csw.identification.abstract"
   ]
  },
  {
   "cell_type": "code",
   "execution_count": 82,
   "metadata": {},
   "outputs": [
    {
     "data": {
      "text/plain": [
       "'CSW'"
      ]
     },
     "execution_count": 82,
     "metadata": {},
     "output_type": "execute_result"
    }
   ],
   "source": [
    "csw.identification.type"
   ]
  },
  {
   "cell_type": "code",
   "execution_count": 83,
   "metadata": {},
   "outputs": [
    {
     "data": {
      "text/plain": [
       "['catalogue', 'discovery', 'metadata']"
      ]
     },
     "execution_count": 83,
     "metadata": {},
     "output_type": "execute_result"
    }
   ],
   "source": [
    "csw.identification.keywords"
   ]
  },
  {
   "cell_type": "code",
   "execution_count": 84,
   "metadata": {},
   "outputs": [
    {
     "data": {
      "text/plain": [
       "[<owslib.ows.OperationsMetadata GetCapabilities at 0x7f3186a9fe48>,\n",
       " <owslib.ows.OperationsMetadata DescribeRecord at 0x7f3186aad198>,\n",
       " <owslib.ows.OperationsMetadata GetDomain at 0x7f3186aad978>,\n",
       " <owslib.ows.OperationsMetadata GetRecords at 0x7f3186aadbe0>,\n",
       " <owslib.ows.OperationsMetadata GetRecordById at 0x7f3186aad128>,\n",
       " <owslib.ows.OperationsMetadata GetRepositoryItem at 0x7f3186aadba8>]"
      ]
     },
     "execution_count": 84,
     "metadata": {},
     "output_type": "execute_result"
    }
   ],
   "source": [
    "csw.operations"
   ]
  },
  {
   "cell_type": "code",
   "execution_count": 85,
   "metadata": {},
   "outputs": [
    {
     "data": {
      "text/plain": [
       "['GetCapabilities',\n",
       " 'DescribeRecord',\n",
       " 'GetDomain',\n",
       " 'GetRecords',\n",
       " 'GetRecordById',\n",
       " 'GetRepositoryItem']"
      ]
     },
     "execution_count": 85,
     "metadata": {},
     "output_type": "execute_result"
    }
   ],
   "source": [
    "[op.name for op in csw.operations]"
   ]
  },
  {
   "cell_type": "code",
   "execution_count": 86,
   "metadata": {},
   "outputs": [],
   "source": [
    "csw.getdomain('GetRecords.resultType')"
   ]
  },
  {
   "cell_type": "code",
   "execution_count": 87,
   "metadata": {},
   "outputs": [
    {
     "data": {
      "text/plain": [
       "{'type': 'csw:Record',\n",
       " 'parameter': 'GetRecords.resultType',\n",
       " 'values': ['hits', 'results', 'validate']}"
      ]
     },
     "execution_count": 87,
     "metadata": {},
     "output_type": "execute_result"
    }
   ],
   "source": [
    "csw.results"
   ]
  },
  {
   "cell_type": "code",
   "execution_count": 88,
   "metadata": {},
   "outputs": [],
   "source": [
    "from owslib.fes import PropertyIsEqualTo, PropertyIsLike, BBox"
   ]
  },
  {
   "cell_type": "code",
   "execution_count": 89,
   "metadata": {},
   "outputs": [],
   "source": [
    "my_query = PropertyIsEqualTo('csw:AnyText', 'Greenspace')"
   ]
  },
  {
   "cell_type": "markdown",
   "metadata": {},
   "source": [
    "In this case there is a Constraint of MaxRecordDefault set to 10\n",
    "So we have to use startposition to page through resultsets"
   ]
  },
  {
   "cell_type": "code",
   "execution_count": 90,
   "metadata": {},
   "outputs": [],
   "source": [
    "csw.getrecords2(constraints=[my_query])"
   ]
  },
  {
   "cell_type": "code",
   "execution_count": 91,
   "metadata": {},
   "outputs": [
    {
     "data": {
      "text/plain": [
       "{'matches': 34, 'returned': 10, 'nextrecord': 11}"
      ]
     },
     "execution_count": 91,
     "metadata": {},
     "output_type": "execute_result"
    }
   ],
   "source": [
    "my_query_results = csw.results\n",
    "my_query_results"
   ]
  },
  {
   "cell_type": "code",
   "execution_count": 92,
   "metadata": {},
   "outputs": [
    {
     "data": {
      "text/plain": [
       "{'matches': 34, 'returned': 10, 'nextrecord': 11}"
      ]
     },
     "execution_count": 92,
     "metadata": {},
     "output_type": "execute_result"
    }
   ],
   "source": [
    "csw.results"
   ]
  },
  {
   "cell_type": "code",
   "execution_count": 125,
   "metadata": {},
   "outputs": [
    {
     "name": "stdout",
     "output_type": "stream",
     "text": [
      "\n",
      "\n",
      "\n",
      "\n",
      "title: St Albans City and District Council Amenity Green Space\n",
      "http://inspirewms.stalbans.gov.uk/INSPIRE/WEBSERVICE/wms.exe?service=wms&request=GetCapabilities\n",
      "\n",
      "\n",
      "title: Worcester City Council WMS Service\n",
      "http://inspire.worcester.gov.uk/geoserver/worcester/ows?SERVICE=WMS&request=GetCapabilities\n",
      "\n",
      "\n",
      "title: Wycombe Inspire Data\n",
      "http://inspire.wycombe.gov.uk/getows.ashx?Mapsource=Wycombe/Inspire&service=WMS&version=1.1.1&Request=GetCapabilities\n",
      "\n",
      "\n",
      "title: Fife Cycle Network\n",
      "http://arcgisweb.fife.gov.uk/geoserver/fife/ows?request=getCapabilities&version=1.3.0&service=WMS\n",
      "\n",
      "\n",
      "title: Suitable Alternative Natural Green Spaces\n",
      "https://maps.runnymede.gov.uk/geoserver/environment/suitable_alternative_natural_green_spaces/wms?service=WMS&request=GetCapabilities\n",
      "\n",
      "\n",
      "title: Amenity Greenspace\n",
      "http://maps.cheshire.gov.uk/ArcGIS/services/CE/public_wms/MapServer/WmSServer?request=GetCapabilities&service=WMS\n",
      "\n",
      "\n",
      "\n",
      "\n",
      "title: Amenity Greenspace Buffer\n",
      "http://maps.cheshire.gov.uk/ArcGIS/services/CE/public_wms/MapServer/WmSServer?request=GetCapabilities&service=WMS\n",
      "\n",
      "\n"
     ]
    }
   ],
   "source": [
    "for rec in csw.records:\n",
    "    r = csw.records[rec]\n",
    "    #print(\"abstract:{}\".format(r.abstract))    \n",
    "    #print(\"accessrights:{}\".format(r.accessrights))    \n",
    "    #print(\"alternative:{}\".format(r.alternative))    \n",
    "    #print(\"bbox:{}\".format(r.bbox))\n",
    "    #print(\"bbox_wgs84:{}\".format(r.bbox_wgs84))    \n",
    "    #print(\"contributor:{}\".format(r.contributor))    \n",
    "    #print(\"coverage:{}\".format(r.coverage))    \n",
    "    #print(\"created:{}\".format(r.created))    \n",
    "    #print(\"creator:{}\".format(r.creator))    \n",
    "    #print(\"date:{}\".format(r.date))    \n",
    "    #print(\"format:{}\".format(r.format))    \n",
    "    #print(\"identifier:{}\".format(r.identifier))\n",
    "    #print(\"ispartof:{}\".format(r.ispartof))    \n",
    "    #print(\"issued:{}\".format(r.issued))  \n",
    "    #print(\"language:{}\".format(r.language))    \n",
    "    #print(\"license:{}\".format(r.license))    \n",
    "    #print(\"modified:{}\".format(r.modified))    \n",
    "    #print(\"publisher:{}\".format(r.publisher))    \n",
    "    references = r.references\n",
    "    #print(\"relation:{}\".format(r.relation))        \n",
    "    #print(\"rights:{}\".format(r.rights))\n",
    "    #print(\"rightsholder:{}\".format(r.rightsholder))    \n",
    "    #print(\"source:{}\".format(r.source))    \n",
    "    #print(\"spatial:{}\".format(r.spatial))    \n",
    "    #print(\"subjects:{}\".format(r.subjects))        \n",
    "    #print(\"temporal:{}\".format(r.temporal))    \n",
    "    title = r.title\n",
    "    #print(\"type:{}\".format(r.type)\n",
    "    #print(\"uris:{}\".format(r.uris))\n",
    "    \n",
    "    #print(\"references:{}\".format(references))\n",
    "    \n",
    "    for r in references:\n",
    "        is_wms = False\n",
    "        if 'wms' in (r['url']).lower():\n",
    "            if 'getcapabilities' in (r['url']).lower():\n",
    "                is_wms = True\n",
    "        if is_wms:\n",
    "            print(\"title: {}\".format(title))\n",
    "            print(r['url'])    \n",
    "    print(\"\\n\")\n",
    "    \n",
    "    #print(csw.records[rec].title, csw.records[rec].format)\n",
    "    #print(type(csw.records[rec]))\n",
    "    "
   ]
  },
  {
   "cell_type": "code",
   "execution_count": null,
   "metadata": {},
   "outputs": [],
   "source": []
  }
 ],
 "metadata": {
  "kernelspec": {
   "display_name": "Python 3",
   "language": "python",
   "name": "python3"
  },
  "language_info": {
   "codemirror_mode": {
    "name": "ipython",
    "version": 3
   },
   "file_extension": ".py",
   "mimetype": "text/x-python",
   "name": "python",
   "nbconvert_exporter": "python",
   "pygments_lexer": "ipython3",
   "version": "3.6.7"
  }
 },
 "nbformat": 4,
 "nbformat_minor": 4
}
